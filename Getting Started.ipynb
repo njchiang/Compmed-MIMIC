{
 "cells": [
  {
   "cell_type": "code",
   "execution_count": 1,
   "id": "4a6fff36-74b8-4d2a-8b5e-d8012d556d91",
   "metadata": {},
   "outputs": [],
   "source": [
    "from pyathena import connect\n",
    "from pyathena.pandas.util import as_pandas\n",
    "from __future__ import print_function\n",
    "\n",
    "# Import libraries\n",
    "import datetime\n",
    "import numpy as np\n",
    "import pandas as pd\n",
    "import matplotlib.pyplot as plt\n",
    "import os\n",
    "import boto3\n",
    "from botocore.client import ClientError\n",
    "# below is used to print out pretty pandas dataframes\n",
    "from IPython.display import display, HTML\n",
    "%matplotlib inline"
   ]
  },
  {
   "cell_type": "code",
   "execution_count": 2,
   "id": "53914567-dfc6-451a-b5aa-9fe4fd2c5e8f",
   "metadata": {},
   "outputs": [],
   "source": [
    "s3 = boto3.resource('s3')\n",
    "client = boto3.client(\"sts\")\n",
    "account_id = client.get_caller_identity()[\"Account\"]\n"
   ]
  },
  {
   "cell_type": "code",
   "execution_count": 3,
   "id": "35c80a76-8678-407f-a53d-d98c169059d9",
   "metadata": {},
   "outputs": [],
   "source": [
    "my_session = boto3.session.Session()\n",
    "region = my_session.region_name\n",
    "athena_query_results_bucket = 'aws-athena-query-results-'+account_id+'-'+region\n"
   ]
  },
  {
   "cell_type": "code",
   "execution_count": 4,
   "id": "de585284-1f7d-493b-8f05-1ae4facde6bb",
   "metadata": {},
   "outputs": [],
   "source": [
    "\n",
    "try:\n",
    "    s3.meta.client.head_bucket(Bucket=athena_query_results_bucket)\n",
    "except ClientError:\n",
    "    bucket = s3.create_bucket(Bucket=athena_query_results_bucket)\n",
    "    print('Creating bucket '+athena_query_results_bucket)\n",
    "cursor = connect(s3_staging_dir='s3://'+athena_query_results_bucket+'/athena/temp').cursor()"
   ]
  },
  {
   "cell_type": "code",
   "execution_count": 5,
   "id": "fe251cd9-bbcb-4b44-8a72-fcb0ec365ef7",
   "metadata": {},
   "outputs": [
    {
     "data": {
      "text/html": [
       "<div>\n",
       "<style scoped>\n",
       "    .dataframe tbody tr th:only-of-type {\n",
       "        vertical-align: middle;\n",
       "    }\n",
       "\n",
       "    .dataframe tbody tr th {\n",
       "        vertical-align: top;\n",
       "    }\n",
       "\n",
       "    .dataframe thead th {\n",
       "        text-align: right;\n",
       "    }\n",
       "</style>\n",
       "<table border=\"1\" class=\"dataframe\">\n",
       "  <thead>\n",
       "    <tr style=\"text-align: right;\">\n",
       "      <th></th>\n",
       "      <th>subject_id</th>\n",
       "      <th>hadm_id</th>\n",
       "    </tr>\n",
       "  </thead>\n",
       "  <tbody>\n",
       "    <tr>\n",
       "      <th>0</th>\n",
       "      <td>22</td>\n",
       "      <td>165315</td>\n",
       "    </tr>\n",
       "    <tr>\n",
       "      <th>1</th>\n",
       "      <td>23</td>\n",
       "      <td>152223</td>\n",
       "    </tr>\n",
       "    <tr>\n",
       "      <th>2</th>\n",
       "      <td>23</td>\n",
       "      <td>124321</td>\n",
       "    </tr>\n",
       "    <tr>\n",
       "      <th>3</th>\n",
       "      <td>24</td>\n",
       "      <td>161859</td>\n",
       "    </tr>\n",
       "    <tr>\n",
       "      <th>4</th>\n",
       "      <td>25</td>\n",
       "      <td>129635</td>\n",
       "    </tr>\n",
       "  </tbody>\n",
       "</table>\n",
       "</div>"
      ],
      "text/plain": [
       "   subject_id  hadm_id\n",
       "0          22   165315\n",
       "1          23   152223\n",
       "2          23   124321\n",
       "3          24   161859\n",
       "4          25   129635"
      ]
     },
     "execution_count": 5,
     "metadata": {},
     "output_type": "execute_result"
    }
   ],
   "source": [
    "query = \"SELECT subject_id, hadm_id FROM mimiciii.admissions\"\n",
    "cursor.execute(query)\n",
    "df = as_pandas(cursor)\n",
    "df.head()"
   ]
  },
  {
   "cell_type": "code",
   "execution_count": null,
   "id": "ebfe58cc-75ed-4e25-a44f-36e8740e96ce",
   "metadata": {},
   "outputs": [],
   "source": []
  }
 ],
 "metadata": {
  "kernelspec": {
   "display_name": "testmimic",
   "language": "python",
   "name": "testmimic"
  },
  "language_info": {
   "codemirror_mode": {
    "name": "ipython",
    "version": 3
   },
   "file_extension": ".py",
   "mimetype": "text/x-python",
   "name": "python",
   "nbconvert_exporter": "python",
   "pygments_lexer": "ipython3",
   "version": "3.9.12"
  }
 },
 "nbformat": 4,
 "nbformat_minor": 5
}
